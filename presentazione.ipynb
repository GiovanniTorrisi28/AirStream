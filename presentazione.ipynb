{
 "cells": [
  {
   "cell_type": "markdown",
   "id": "9b51186e",
   "metadata": {},
   "source": [
    "# AirStream: analisi della qualità dell'aria"
   ]
  },
  {
   "cell_type": "markdown",
   "id": "e6e1b183",
   "metadata": {},
   "source": [
    "AirStream è un software per l'analisi della qualità dell'aria con riferimento alla città di Catania.\n",
    "I dati dell'inquinamento vengono acquisiti in streaming da una sorgente esterna vengono elaborati in tempo reale con lo scopo di: \n",
    "- Monitorare l'andamento della qualità dell'aria e le principali condizioni atmosferiche\n",
    "- Predire la qualità dell'aria per l'ora successiva\n",
    "\n",
    "La qualità dell'aria è rappresentata da un indice numerico intero (aqi) che varia da 1 a 5:\n",
    "- 1 → Altà qualità\n",
    "- 5 → Elevato grado di inquinamento\n",
    "\n",
    "<p align=\"center\">\n",
    "  <img src=\"images/quality_indicator.jpg\" width=\"600\">\n",
    "</p>"
   ]
  },
  {
   "cell_type": "markdown",
   "id": "c0692000",
   "metadata": {},
   "source": [
    "# Infrastruttura e flusso dei dati\n",
    "<img src=\"images/infrastructure_schema.png\" width=\"900\">\n"
   ]
  },
  {
   "cell_type": "markdown",
   "id": "4d409d3d",
   "metadata": {},
   "source": [
    "# OpenWeatherMap \n",
    "\n",
    "È una sorgente dati esterna che fornisce informazioni su condizioni climatiche e qualità dell’aria tramite delle API REST.\n",
    "Nel progetto, OpenWeatherMap è utilizzato come punto di partenza della pipeline: da qui vengono acquisiti i dati ambientali e meteorologici che alimentano tutto il flusso successivo."
   ]
  },
  {
   "cell_type": "markdown",
   "id": "47b96c06",
   "metadata": {},
   "source": [
    "# Logstash\n",
    "\n",
    "Logstash effettua un polling ogni minuto sugli endpoint di OpenWeatherMap.\n",
    "In particolare, legge:\n",
    "\n",
    "- I dati di qualità dell’aria,\n",
    "\n",
    "- I dati delle condizioni atmosferiche (temperatura, umidità, pressione, ecc.).\n",
    "\n",
    "Queste due tipologie di dati vengono inviate a due differenti topic Kafka, così da mantenere separati i flussi in ingresso."
   ]
  },
  {
   "cell_type": "markdown",
   "id": "22c6ae16",
   "metadata": {},
   "source": [
    "# Kafka\n",
    "\n",
    "Kafka è la piattaforma di streaming e messaggistica che funge da buffer tra le sorgenti e i sistemi di elaborazione.\n",
    "Permette di gestire grandi volumi di dati in tempo reale, garantendo affidabilità e scalabilità.\n",
    "Nel progetto, Kafka riceve i dati da Logstash e li rende disponibili a Spark per l’elaborazione"
   ]
  },
  {
   "cell_type": "markdown",
   "id": "1fe1d54c",
   "metadata": {},
   "source": [
    "# Spark\n",
    "\n",
    "Apache Spark elabora i dati in tempo reale utilizzando Spark Structured Streaming.\n",
    "Le operazioni principali sono:\n",
    "\n",
    "- Conversione dei messaggi in DataFrame\n",
    "\n",
    "- Rimozione dei duplicati,\n",
    "\n",
    "- Applicazione di un modello di Machine Learning (Random Forest) per generare predizioni sulla qualità dell’aria.\n",
    "\n",
    "Dato il contesto applicativo del software, il task di machine learning è la classificazione multiclasse in cui le label y ∈ {1,2,3,4,5}"
   ]
  },
  {
   "cell_type": "markdown",
   "id": "8e9fc2eb",
   "metadata": {},
   "source": [
    "# Elasticsearch\n",
    "\n",
    "Elasticsearch è un motore di indicizzazione e ricerca.\n",
    "Nel progetto viene usato per memorizzare i dati elaborati e generati da Spark, rendendoli facilmente interrogabili. "
   ]
  },
  {
   "cell_type": "markdown",
   "id": "67fbaa86",
   "metadata": {},
   "source": [
    "# Kibana\n",
    "\n",
    "Kibana è lo strumento di visualizzazione dei dati integrato con Elasticsearch.\n",
    "è stato utilizzato per costruire dashboard interattive che mostrano:\n",
    "\n",
    "- Heatmap per analizzare la distribuzione dei dati\n",
    "\n",
    "- Istogrammi per visualizzare le quantità dei vari inquinanti nel tempo\n",
    "\n",
    "- Mappe per localizzare i luoghi delle misurazioni\n",
    "\n",
    "- Metriche per monitorare condizioni atmosferiche e qualità dell'aria attuale e futura.\n",
    "\n",
    "Un importante punto a favore di Kibana è che è perfettamente integrabile con Elasticsearch: insieme costituiscono il cuore del cosiddetto **ELK Stack** (Elasticsearch, Logstash, Kibana), una delle soluzioni più consolidate per la gestione dei dati in temppo reale.  \n",
    "\n",
    "Come si dice: *“squadra che vince non si cambia”*"
   ]
  }
 ],
 "metadata": {
  "language_info": {
   "name": "python"
  }
 },
 "nbformat": 4,
 "nbformat_minor": 5
}
